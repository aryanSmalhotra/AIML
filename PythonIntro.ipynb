{
  "nbformat": 4,
  "nbformat_minor": 0,
  "metadata": {
    "colab": {
      "provenance": [],
      "authorship_tag": "ABX9TyPiq2sGR8MLzVya3PjSzTMC",
      "include_colab_link": true
    },
    "kernelspec": {
      "name": "python3",
      "display_name": "Python 3"
    },
    "language_info": {
      "name": "python"
    }
  },
  "cells": [
    {
      "cell_type": "markdown",
      "metadata": {
        "id": "view-in-github",
        "colab_type": "text"
      },
      "source": [
        "<a href=\"https://colab.research.google.com/github/aryanSmalhotra/AIML/blob/main/PythonIntro.ipynb\" target=\"_parent\"><img src=\"https://colab.research.google.com/assets/colab-badge.svg\" alt=\"Open In Colab\"/></a>"
      ]
    },
    {
      "cell_type": "code",
      "execution_count": null,
      "metadata": {
        "colab": {
          "base_uri": "https://localhost:8080/"
        },
        "id": "AFKm0FjVcDpa",
        "outputId": "7cf2bced-f079-443b-d0a6-58396587be5d"
      },
      "outputs": [
        {
          "output_type": "execute_result",
          "data": {
            "text/plain": [
              "2"
            ]
          },
          "metadata": {},
          "execution_count": 1
        }
      ],
      "source": [
        "1+1"
      ]
    },
    {
      "cell_type": "code",
      "source": [
        "print('Aryan Singh Malhotra')"
      ],
      "metadata": {
        "colab": {
          "base_uri": "https://localhost:8080/"
        },
        "id": "PpB2v1ZYcItt",
        "outputId": "f6f99ad7-1ddd-4f67-a428-c29f5fbb4c1a"
      },
      "execution_count": null,
      "outputs": [
        {
          "output_type": "stream",
          "name": "stdout",
          "text": [
            "Aryan Singh Malhotra\n"
          ]
        }
      ]
    },
    {
      "cell_type": "code",
      "source": [
        "\n",
        "def adder(*num):\n",
        "    sum = 0\n",
        "    for n in num:\n",
        "        sum = sum + n\n",
        "    print(\"Sum:\",sum)\n",
        "\n"
      ],
      "metadata": {
        "colab": {
          "base_uri": "https://localhost:8080/"
        },
        "id": "FraoJ906cSe0",
        "outputId": "a0215895-9e79-46a2-9288-7332df37072e"
      },
      "execution_count": null,
      "outputs": [
        {
          "output_type": "stream",
          "name": "stdout",
          "text": [
            "Sum: 8\n"
          ]
        }
      ]
    },
    {
      "cell_type": "code",
      "source": [
        "a = 3\n",
        "print(a + (33))"
      ],
      "metadata": {
        "colab": {
          "base_uri": "https://localhost:8080/"
        },
        "id": "xAJjZ8dRerwQ",
        "outputId": "dfe5f3eb-cc45-4858-b656-a7732e45e39d"
      },
      "execution_count": null,
      "outputs": [
        {
          "output_type": "stream",
          "name": "stdout",
          "text": [
            "36\n"
          ]
        }
      ]
    },
    {
      "cell_type": "code",
      "source": [
        "#tuple\n",
        "l1=('Apple','Sony','Samsumg','LG','Redmi')\n",
        "\n",
        "print(l1[1:4])\n",
        "type(l1)"
      ],
      "metadata": {
        "colab": {
          "base_uri": "https://localhost:8080/"
        },
        "id": "ztSnBFdBiLTn",
        "outputId": "a6b6e167-dbd4-4b57-ed86-c0355fcc1749"
      },
      "execution_count": null,
      "outputs": [
        {
          "output_type": "stream",
          "name": "stdout",
          "text": [
            "()\n"
          ]
        },
        {
          "output_type": "execute_result",
          "data": {
            "text/plain": [
              "tuple"
            ]
          },
          "metadata": {},
          "execution_count": 26
        }
      ]
    },
    {
      "cell_type": "code",
      "source": [
        "#list\n",
        "l1=['Apple','Sony','Samsumg','LG','Redmi']\n",
        "l1[4]='Oppo'\n",
        "\n",
        "print(l1[0:5])\n",
        "\n",
        "type(l1)\n"
      ],
      "metadata": {
        "colab": {
          "base_uri": "https://localhost:8080/"
        },
        "id": "OYruJfqoiRuO",
        "outputId": "e4401079-8976-4ff6-9f1f-26c865e8eda6"
      },
      "execution_count": 14,
      "outputs": [
        {
          "output_type": "stream",
          "name": "stdout",
          "text": [
            "['Apple', 'Sony', 'Samsumg', 'LG', 'Oppo']\n"
          ]
        },
        {
          "output_type": "execute_result",
          "data": {
            "text/plain": [
              "list"
            ]
          },
          "metadata": {},
          "execution_count": 14
        }
      ]
    },
    {
      "cell_type": "code",
      "source": [
        "ramList=[12,8,6,4,2]"
      ],
      "metadata": {
        "id": "kDUaUl5zOvia"
      },
      "execution_count": 21,
      "outputs": []
    },
    {
      "cell_type": "code",
      "source": [
        "Price=[900,500,750,400,250]"
      ],
      "metadata": {
        "id": "vakL7daEPzgL"
      },
      "execution_count": 6,
      "outputs": []
    },
    {
      "cell_type": "code",
      "source": [
        "#If Statement\n",
        "b=int(input('enter which phone you want to buy(in no. acc. to list)'))\n",
        "Budget= float(input(\"Budget(in $)\"))\n",
        "if(Budget>=Price[b]-Price[b]*10/100):\n",
        "  print(\"you can use the coupon to get 10% dicount on the \",l1[b],'phone')\n",
        "elif (Budget>=Price[b]):\n",
        "  print(\"You can buy the new\",l1[b],'phone' )\n",
        "\n",
        "else:\n",
        "  print(\"no you cant\")"
      ],
      "metadata": {
        "colab": {
          "base_uri": "https://localhost:8080/"
        },
        "id": "QyWUprI68USG",
        "outputId": "be48c96f-eb9e-4cb6-d987-354359b12d0a"
      },
      "execution_count": 40,
      "outputs": [
        {
          "output_type": "stream",
          "name": "stdout",
          "text": [
            "enter which phone you want to buy(in no. acc. to list)2\n",
            "Budget(in $)700\n",
            "you can use the coupon to get ten perent off on the  Samsumg phone\n"
          ]
        }
      ]
    },
    {
      "cell_type": "code",
      "source": [
        "#dictionary\n",
        "dict={\n",
        "    'Phone Brand': l1,\n",
        "\n",
        "    'ram': ramList,\n",
        "\n",
        "    'Price(in $)' :Price\n",
        "    \n",
        "}\n",
        "dict['ram'][2]=8\n",
        "\n",
        "print(dict)\n",
        "type(dict)\n"
      ],
      "metadata": {
        "colab": {
          "base_uri": "https://localhost:8080/"
        },
        "id": "lyVM0dbLPC6L",
        "outputId": "dfc08ad0-b73e-4d1c-901e-9f732f455f64"
      },
      "execution_count": 41,
      "outputs": [
        {
          "output_type": "stream",
          "name": "stdout",
          "text": [
            "{'Phone Brand': ['Apple', 'Sony', 'Samsumg', 'LG', 'Oppo'], 'ram': [12, 8, 8, 4, 2], 'Price(in $)': [900, 500, 750, 400, 250]}\n"
          ]
        },
        {
          "output_type": "execute_result",
          "data": {
            "text/plain": [
              "dict"
            ]
          },
          "metadata": {},
          "execution_count": 41
        }
      ]
    },
    {
      "cell_type": "code",
      "source": [
        "couponList=range(5,21,5)\n",
        "print(couponList)"
      ],
      "metadata": {
        "colab": {
          "base_uri": "https://localhost:8080/"
        },
        "id": "UmMVjTufDjJ2",
        "outputId": "0ffcbb99-d764-4f73-c589-7fbcbde4c47e"
      },
      "execution_count": 57,
      "outputs": [
        {
          "output_type": "stream",
          "name": "stdout",
          "text": [
            "range(5, 21, 5)\n"
          ]
        }
      ]
    },
    {
      "cell_type": "code",
      "source": [
        "#for Loops\n",
        "a=int(input('enter which phone you want to buy(in no. acc. to list)'))\n",
        "\n",
        "for i in couponList:\n",
        "  discount=Price[a]*(i/100)\n",
        "  discountedPrice=Price[a]-discount\n",
        "  print(\"The price after applying \", i ,\"% discount coupon on the \",l1[a], \" phone\",\" is $\" ,discountedPrice,sep='')"
      ],
      "metadata": {
        "colab": {
          "base_uri": "https://localhost:8080/"
        },
        "id": "wckCOfiiDQUs",
        "outputId": "99b5e710-0cf1-4752-cd94-f3014a1cdb30"
      },
      "execution_count": 60,
      "outputs": [
        {
          "output_type": "stream",
          "name": "stdout",
          "text": [
            "enter which phone you want to buy(in no. acc. to list)4\n",
            "The price after applying 5% discount coupon on the Oppo phone is $237.5\n",
            "The price after applying 10% discount coupon on the Oppo phone is $225.0\n",
            "The price after applying 15% discount coupon on the Oppo phone is $212.5\n",
            "The price after applying 20% discount coupon on the Oppo phone is $200.0\n"
          ]
        }
      ]
    },
    {
      "cell_type": "code",
      "source": [
        "#while loop\n",
        "\n",
        "\n"
      ],
      "metadata": {
        "id": "Hea3ge9GG8be"
      },
      "execution_count": null,
      "outputs": []
    },
    {
      "cell_type": "code",
      "source": [],
      "metadata": {
        "colab": {
          "base_uri": "https://localhost:8080/",
          "height": 235
        },
        "outputId": "ab83bb49-99e5-4cce-cf6d-b3abadd5d18a",
        "id": "BmYxO3OOG9C1"
      },
      "execution_count": 70,
      "outputs": [
        {
          "output_type": "error",
          "ename": "TypeError",
          "evalue": "ignored",
          "traceback": [
            "\u001b[0;31m---------------------------------------------------------------------------\u001b[0m",
            "\u001b[0;31mTypeError\u001b[0m                                 Traceback (most recent call last)",
            "\u001b[0;32m<ipython-input-70-5a826528a9d3>\u001b[0m in \u001b[0;36m<module>\u001b[0;34m\u001b[0m\n\u001b[0;32m----> 1\u001b[0;31m \u001b[0mstocksOfphones\u001b[0m\u001b[0;34m=\u001b[0m\u001b[0mrange\u001b[0m\u001b[0;34m(\u001b[0m\u001b[0;36m200\u001b[0m\u001b[0;34m,\u001b[0m\u001b[0;36m500\u001b[0m\u001b[0;34m,\u001b[0m\u001b[0;36m1000\u001b[0m\u001b[0;34m,\u001b[0m\u001b[0;36m300\u001b[0m\u001b[0;34m,\u001b[0m\u001b[0;36m400\u001b[0m\u001b[0;34m)\u001b[0m\u001b[0;34m\u001b[0m\u001b[0;34m\u001b[0m\u001b[0m\n\u001b[0m\u001b[1;32m      2\u001b[0m \u001b[0;32mwhile\u001b[0m \u001b[0mstocksOfphones\u001b[0m\u001b[0;34m!=\u001b[0m\u001b[0;36m0\u001b[0m\u001b[0;34m:\u001b[0m\u001b[0;34m\u001b[0m\u001b[0;34m\u001b[0m\u001b[0m\n\u001b[1;32m      3\u001b[0m \u001b[0;34m\u001b[0m\u001b[0m\n\u001b[1;32m      4\u001b[0m   \u001b[0mstocksOfphones\u001b[0m\u001b[0;34m-=\u001b[0m\u001b[0;36m6\u001b[0m\u001b[0;34m\u001b[0m\u001b[0;34m\u001b[0m\u001b[0m\n\u001b[1;32m      5\u001b[0m \u001b[0;34m\u001b[0m\u001b[0m\n",
            "\u001b[0;31mTypeError\u001b[0m: range expected at most 3 arguments, got 5"
          ]
        }
      ]
    },
    {
      "cell_type": "markdown",
      "source": [
        "\n"
      ],
      "metadata": {
        "id": "EdRlH9vsPfKr"
      }
    }
  ]
}