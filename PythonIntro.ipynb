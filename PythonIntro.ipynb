{
  "nbformat": 4,
  "nbformat_minor": 0,
  "metadata": {
    "colab": {
      "provenance": [],
      "authorship_tag": "ABX9TyN3B39zhwF7FI/Mz5BMCItk",
      "include_colab_link": true
    },
    "kernelspec": {
      "name": "python3",
      "display_name": "Python 3"
    },
    "language_info": {
      "name": "python"
    }
  },
  "cells": [
    {
      "cell_type": "markdown",
      "metadata": {
        "id": "view-in-github",
        "colab_type": "text"
      },
      "source": [
        "<a href=\"https://colab.research.google.com/github/aryanSmalhotra/AIML/blob/main/PythonIntro.ipynb\" target=\"_parent\"><img src=\"https://colab.research.google.com/assets/colab-badge.svg\" alt=\"Open In Colab\"/></a>"
      ]
    },
    {
      "cell_type": "code",
      "execution_count": 1,
      "metadata": {
        "colab": {
          "base_uri": "https://localhost:8080/"
        },
        "id": "AFKm0FjVcDpa",
        "outputId": "7cf2bced-f079-443b-d0a6-58396587be5d"
      },
      "outputs": [
        {
          "output_type": "execute_result",
          "data": {
            "text/plain": [
              "2"
            ]
          },
          "metadata": {},
          "execution_count": 1
        }
      ],
      "source": [
        "1+1"
      ]
    },
    {
      "cell_type": "code",
      "source": [
        "print('Aryan Singh Malhotra')"
      ],
      "metadata": {
        "colab": {
          "base_uri": "https://localhost:8080/"
        },
        "id": "PpB2v1ZYcItt",
        "outputId": "f6f99ad7-1ddd-4f67-a428-c29f5fbb4c1a"
      },
      "execution_count": 2,
      "outputs": [
        {
          "output_type": "stream",
          "name": "stdout",
          "text": [
            "Aryan Singh Malhotra\n"
          ]
        }
      ]
    },
    {
      "cell_type": "code",
      "source": [
        "def adder(*num):\n",
        "    sum = 0\n",
        "    for n in num:\n",
        "        sum = sum + n\n",
        "    print(\"Sum:\",sum)\n",
        "\n",
        "adder(3,5)"
      ],
      "metadata": {
        "colab": {
          "base_uri": "https://localhost:8080/"
        },
        "id": "FraoJ906cSe0",
        "outputId": "a0215895-9e79-46a2-9288-7332df37072e"
      },
      "execution_count": 8,
      "outputs": [
        {
          "output_type": "stream",
          "name": "stdout",
          "text": [
            "Sum: 8\n"
          ]
        }
      ]
    },
    {
      "cell_type": "code",
      "source": [
        "a = 3\n",
        "print(a + (33))"
      ],
      "metadata": {
        "colab": {
          "base_uri": "https://localhost:8080/"
        },
        "id": "xAJjZ8dRerwQ",
        "outputId": "dfe5f3eb-cc45-4858-b656-a7732e45e39d"
      },
      "execution_count": 9,
      "outputs": [
        {
          "output_type": "stream",
          "name": "stdout",
          "text": [
            "36\n"
          ]
        }
      ]
    },
    {
      "cell_type": "code",
      "source": [
        "l1=('Apple','Sony','Samsumg','LG','Redmi')\n",
        "\n",
        "print(l1[1:4])\n",
        "type(l1)"
      ],
      "metadata": {
        "colab": {
          "base_uri": "https://localhost:8080/"
        },
        "id": "ztSnBFdBiLTn",
        "outputId": "a6b6e167-dbd4-4b57-ed86-c0355fcc1749"
      },
      "execution_count": 26,
      "outputs": [
        {
          "output_type": "stream",
          "name": "stdout",
          "text": [
            "()\n"
          ]
        },
        {
          "output_type": "execute_result",
          "data": {
            "text/plain": [
              "tuple"
            ]
          },
          "metadata": {},
          "execution_count": 26
        }
      ]
    },
    {
      "cell_type": "code",
      "source": [
        "l1=['Apple','Sony','Samsumg','LG','Redmi']\n",
        "l1[4]='Oppo'\n",
        "\n",
        "print(l1[0:5])\n",
        "\n",
        "type(l1)\n"
      ],
      "metadata": {
        "colab": {
          "base_uri": "https://localhost:8080/"
        },
        "id": "OYruJfqoiRuO",
        "outputId": "897cdfb6-e7dd-424b-a996-a5668488b4cf"
      },
      "execution_count": 3,
      "outputs": [
        {
          "output_type": "stream",
          "name": "stdout",
          "text": [
            "['Apple', 'Sony', 'Samsumg', 'LG', 'Oppo']\n"
          ]
        },
        {
          "output_type": "execute_result",
          "data": {
            "text/plain": [
              "list"
            ]
          },
          "metadata": {},
          "execution_count": 3
        }
      ]
    },
    {
      "cell_type": "code",
      "source": [
        "ramList=[12,8,6,4,2]"
      ],
      "metadata": {
        "id": "kDUaUl5zOvia"
      },
      "execution_count": 5,
      "outputs": []
    },
    {
      "cell_type": "code",
      "source": [
        "Price=[900,500,750,400,250]"
      ],
      "metadata": {
        "id": "vakL7daEPzgL"
      },
      "execution_count": 6,
      "outputs": []
    },
    {
      "cell_type": "code",
      "source": [
        "dict={\n",
        "    'Phone Brand': l1,\n",
        "\n",
        "    'Ram': ramList,\n",
        "\n",
        "    'Price(in $)' :Price\n",
        "    \n",
        "}\n",
        "dict['Ram'][2]=8\n",
        "\n",
        "print(dict)\n",
        "type(dict)\n"
      ],
      "metadata": {
        "colab": {
          "base_uri": "https://localhost:8080/"
        },
        "id": "lyVM0dbLPC6L",
        "outputId": "fc96d94e-8e3d-4a00-ee99-e912d19ac507"
      },
      "execution_count": 8,
      "outputs": [
        {
          "output_type": "stream",
          "name": "stdout",
          "text": [
            "{'Phone Brand': ['Apple', 'Sony', 'Samsumg', 'LG', 'Oppo'], 'Ram': [12, 8, 8, 8, 4], 'Price(in $)': [900, 500, 750, 400, 450]}\n"
          ]
        },
        {
          "output_type": "execute_result",
          "data": {
            "text/plain": [
              "dict"
            ]
          },
          "metadata": {},
          "execution_count": 8
        }
      ]
    },
    {
      "cell_type": "markdown",
      "source": [],
      "metadata": {
        "id": "EdRlH9vsPfKr"
      }
    }
  ]
}