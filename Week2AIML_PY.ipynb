{
  "nbformat": 4,
  "nbformat_minor": 0,
  "metadata": {
    "colab": {
      "provenance": [],
      "authorship_tag": "ABX9TyNSUBxSbyLQOX/fvP8muKSA",
      "include_colab_link": true
    },
    "kernelspec": {
      "name": "python3",
      "display_name": "Python 3"
    },
    "language_info": {
      "name": "python"
    }
  },
  "cells": [
    {
      "cell_type": "markdown",
      "metadata": {
        "id": "view-in-github",
        "colab_type": "text"
      },
      "source": [
        "<a href=\"https://colab.research.google.com/github/aryanSmalhotra/AIML/blob/main/Week2AIML_PY.ipynb\" target=\"_parent\"><img src=\"https://colab.research.google.com/assets/colab-badge.svg\" alt=\"Open In Colab\"/></a>"
      ]
    },
    {
      "cell_type": "code",
      "execution_count": 1,
      "metadata": {
        "id": "1V9DjVQADNOZ"
      },
      "outputs": [],
      "source": [
        "import numpy as np\n",
        "import pandas as pd\n"
      ]
    },
    {
      "cell_type": "code",
      "source": [
        "arr_str=[\"Iphone\",\"Pixel\",\"Redmi\",\"Samsung\",\"LG\"]\n",
        "arr_num=[4,6,7,3,8]"
      ],
      "metadata": {
        "id": "q_nPDroJFrWP"
      },
      "execution_count": null,
      "outputs": []
    },
    {
      "cell_type": "code",
      "source": [
        "#numpy arrays\n",
        "np_arr_str=np.array(arr_str)\n",
        "np_arr_num=np.array(arr_num)\n",
        "\n",
        "print(\"Numpy Array:\",np_arr_str)\n",
        "print(\"Numpy Array:\",np_arr_num)"
      ],
      "metadata": {
        "colab": {
          "base_uri": "https://localhost:8080/"
        },
        "id": "CcMmgHjkF_oa",
        "outputId": "8f0dd019-37ea-4e2b-f8cf-890c08eaee7b"
      },
      "execution_count": null,
      "outputs": [
        {
          "output_type": "stream",
          "name": "stdout",
          "text": [
            "Numpy Array: ['Iphone' 'Pixel' 'Redmi' 'Samsung' 'LG']\n",
            "Numpy Array: [4 6 7 3 8]\n"
          ]
        }
      ]
    },
    {
      "cell_type": "code",
      "source": [
        "#numpy arrays data type\n",
        "print(\"Type Numpy Array:\",type(np_arr_str))\n",
        "print(\"Type Numpy Array:\",type(np_arr_num))\n",
        "\n",
        "#normal arrays data type\n",
        "print(\"Type Normal Array:\",type(arr_str))\n",
        "print(\"Type Normal Array:\",type(arr_num))\n",
        "\n"
      ],
      "metadata": {
        "colab": {
          "base_uri": "https://localhost:8080/"
        },
        "id": "OCoFC6taG0Zm",
        "outputId": "282f9e53-3df1-4069-c611-e728b639f4cb"
      },
      "execution_count": null,
      "outputs": [
        {
          "output_type": "stream",
          "name": "stdout",
          "text": [
            "Type Numpy Array: <class 'numpy.ndarray'>\n",
            "Type Numpy Array: <class 'numpy.ndarray'>\n",
            "Type Normal Array: <class 'list'>\n",
            "Type Normal Array: <class 'list'>\n"
          ]
        }
      ]
    },
    {
      "cell_type": "code",
      "source": [
        "#matix array\n",
        "matrix=np.array([[9,8,6],[4,2,8],[1,7,5]])\n",
        "print(matrix)"
      ],
      "metadata": {
        "colab": {
          "base_uri": "https://localhost:8080/"
        },
        "id": "720mnqHEGew_",
        "outputId": "d71976f6-de43-4ab7-e33b-97e50cada002"
      },
      "execution_count": null,
      "outputs": [
        {
          "output_type": "stream",
          "name": "stdout",
          "text": [
            "[[9 8 6]\n",
            " [4 2 8]\n",
            " [1 7 5]]\n"
          ]
        }
      ]
    },
    {
      "cell_type": "code",
      "source": [
        "#data type of matrix array\n",
        "print(\"data type of matrix\",type(matrix))"
      ],
      "metadata": {
        "colab": {
          "base_uri": "https://localhost:8080/"
        },
        "id": "NS90YUQsIxCD",
        "outputId": "e2965e3e-e43b-47d5-8f41-ce73eb978ba4"
      },
      "execution_count": null,
      "outputs": [
        {
          "output_type": "stream",
          "name": "stdout",
          "text": [
            "data type of matrix <class 'numpy.ndarray'>\n"
          ]
        }
      ]
    },
    {
      "cell_type": "code",
      "source": [
        "#numpy arange functions\n",
        "\n",
        "arr2=np.arange(start=0,stop=10)\n",
        "print(arr2)\n",
        "\n",
        "#short way\n",
        "arr3=np.arange(0,10)\n",
        "print(arr3)\n",
        "\n",
        "#adding a step of size 5\n",
        "arr_step=np.arange(0,21,5)\n",
        "print(arr_step)\n",
        "\n"
      ],
      "metadata": {
        "id": "T7Gg2KAuI85M",
        "colab": {
          "base_uri": "https://localhost:8080/"
        },
        "outputId": "6d3560e1-ac11-4b96-e249-d1e1f59344fb"
      },
      "execution_count": null,
      "outputs": [
        {
          "output_type": "stream",
          "name": "stdout",
          "text": [
            "[0 1 2 3 4 5 6 7 8 9]\n",
            "[0 1 2 3 4 5 6 7 8 9]\n",
            "[ 0  5 10 15 20]\n"
          ]
        }
      ]
    },
    {
      "cell_type": "code",
      "source": [
        "#linspace func\n",
        "\n",
        "matrix2=np.linspace(10,20,10)\n",
        "matrix2\n",
        "\n"
      ],
      "metadata": {
        "colab": {
          "base_uri": "https://localhost:8080/"
        },
        "id": "GLl5BK5VfNA-",
        "outputId": "f19a069d-b477-49fd-b8c0-17c67e255c4c"
      },
      "execution_count": null,
      "outputs": [
        {
          "output_type": "execute_result",
          "data": {
            "text/plain": [
              "array([10.        , 11.11111111, 12.22222222, 13.33333333, 14.44444444,\n",
              "       15.55555556, 16.66666667, 17.77777778, 18.88888889, 20.        ])"
            ]
          },
          "metadata": {},
          "execution_count": 29
        }
      ]
    },
    {
      "cell_type": "code",
      "source": [
        "#matix ones\n",
        "\n",
        "matrix_ones=np.ones([3,5])\n",
        "\n",
        "\n",
        "#matrix zeros\n",
        "\n",
        "matrix_zero=np.zeros([3,5])\n",
        "\n",
        "\n",
        "\n",
        "#matrix eye\n",
        "\n",
        "matrix_eye=np.eye(5)\n",
        "\n",
        "print(matrix_ones,matrix_zero,matrix_eye)\n",
        "\n"
      ],
      "metadata": {
        "colab": {
          "base_uri": "https://localhost:8080/"
        },
        "id": "LHC348d9gMMq",
        "outputId": "ae89dded-4871-4ddc-c8b6-86ccd3d4a2b1"
      },
      "execution_count": null,
      "outputs": [
        {
          "output_type": "stream",
          "name": "stdout",
          "text": [
            "[[1. 1. 1. 1. 1.]\n",
            " [1. 1. 1. 1. 1.]\n",
            " [1. 1. 1. 1. 1.]] [[0. 0. 0. 0. 0.]\n",
            " [0. 0. 0. 0. 0.]\n",
            " [0. 0. 0. 0. 0.]] [[1. 0. 0. 0. 0.]\n",
            " [0. 1. 0. 0. 0.]\n",
            " [0. 0. 1. 0. 0.]\n",
            " [0. 0. 0. 1. 0.]\n",
            " [0. 0. 0. 0. 1.]]\n"
          ]
        }
      ]
    },
    {
      "cell_type": "code",
      "source": [
        "#NumPY Reshape\n",
        "\n",
        "arr4=np.arange(0,25)\n",
        "\n",
        "arr_reshape=arr4.reshape((5,5))\n",
        "arr_reshape"
      ],
      "metadata": {
        "colab": {
          "base_uri": "https://localhost:8080/"
        },
        "id": "BF3BPD1hhj16",
        "outputId": "d69c4e11-1cc0-4c63-c757-22e690732771"
      },
      "execution_count": null,
      "outputs": [
        {
          "output_type": "execute_result",
          "data": {
            "text/plain": [
              "array([[ 0,  1,  2,  3,  4],\n",
              "       [ 5,  6,  7,  8,  9],\n",
              "       [10, 11, 12, 13, 14],\n",
              "       [15, 16, 17, 18, 19],\n",
              "       [20, 21, 22, 23, 24]])"
            ]
          },
          "metadata": {},
          "execution_count": 47
        }
      ]
    },
    {
      "cell_type": "code",
      "source": [
        "#sin #cos #tan\n",
        "\n",
        "print(np.sin(4))\n",
        "\n",
        "print(np.cos(6))\n",
        "\n",
        "print(np.tan(8))"
      ],
      "metadata": {
        "id": "dT0X5KzIiZdN",
        "colab": {
          "base_uri": "https://localhost:8080/"
        },
        "outputId": "4c190917-edc3-4f11-c312-a8c3ee9e8f56"
      },
      "execution_count": null,
      "outputs": [
        {
          "output_type": "stream",
          "name": "stdout",
          "text": [
            "-0.11478481378318722\n",
            "0.9933903797222716\n",
            "-0.11554854579453279\n"
          ]
        }
      ]
    },
    {
      "cell_type": "code",
      "source": [
        "np.log(256)"
      ],
      "metadata": {
        "colab": {
          "base_uri": "https://localhost:8080/"
        },
        "id": "zj4usF-QpDVn",
        "outputId": "521cd850-34bb-4721-b9d7-2585d398fee0"
      },
      "execution_count": null,
      "outputs": [
        {
          "output_type": "execute_result",
          "data": {
            "text/plain": [
              "5.545177444479562"
            ]
          },
          "metadata": {},
          "execution_count": 55
        }
      ]
    },
    {
      "cell_type": "code",
      "source": [
        "#Basic Algoriths\n",
        "\n",
        "arr8=np.arange(3,8)\n",
        "\n",
        "arr9=np.arange(1,6)\n",
        "\n",
        "print(\"Addition:\", arr8+arr9)\n",
        "print(\"Subtraction:\", arr8-arr9)\n",
        "print(arr8*arr9)\n",
        "print(arr8/arr9)\n",
        "print(\"power\",arr8**arr9)\n",
        "print(\"inverse\",1/arr8)\n",
        "\n"
      ],
      "metadata": {
        "colab": {
          "base_uri": "https://localhost:8080/"
        },
        "id": "i7srFLkspmsj",
        "outputId": "1fb27fb1-90ba-47ae-dce3-9c0ffb508e51"
      },
      "execution_count": null,
      "outputs": [
        {
          "output_type": "stream",
          "name": "stdout",
          "text": [
            "Addition: [ 4  6  8 10 12]\n",
            "Subtraction: [2 2 2 2 2]\n",
            "[ 3  8 15 24 35]\n",
            "[3.         2.         1.66666667 1.5        1.4       ]\n",
            "power [    3    16   125  1296 16807]\n",
            "inverse [0.33333333 0.25       0.2        0.16666667 0.14285714]\n"
          ]
        }
      ]
    },
    {
      "cell_type": "code",
      "source": [
        "#Operations in matricies\n",
        "\n",
        "matrix_opp=np.arange(1,10).reshape(3,3)\n",
        "print(matrix_opp)\n",
        "\n",
        "matrix_opp2=np.eye(3)\n",
        "print(matrix_opp2)"
      ],
      "metadata": {
        "id": "PQiqYn46tfcD",
        "colab": {
          "base_uri": "https://localhost:8080/"
        },
        "outputId": "37c1c32c-11cd-43de-cbd1-5bbf65917e99"
      },
      "execution_count": null,
      "outputs": [
        {
          "output_type": "stream",
          "name": "stdout",
          "text": [
            "[[1 2 3]\n",
            " [4 5 6]\n",
            " [7 8 9]]\n",
            "[[1. 0. 0.]\n",
            " [0. 1. 0.]\n",
            " [0. 0. 1.]]\n"
          ]
        }
      ]
    },
    {
      "cell_type": "code",
      "source": [
        "print(\"Additon \\n\", matrix_opp+matrix_opp2)\n",
        "print(\"Subtraction \\n\", matrix_opp-matrix_opp2)\n",
        "print(\"Multiplication \\n\", matrix_opp*matrix_opp2)\n",
        "print(\"Division \\n\", matrix_opp/matrix_opp2)\n"
      ],
      "metadata": {
        "colab": {
          "base_uri": "https://localhost:8080/"
        },
        "id": "dajQV668PHfB",
        "outputId": "fda97dc6-35f6-4ba7-9fca-48475f4a3e57"
      },
      "execution_count": null,
      "outputs": [
        {
          "output_type": "stream",
          "name": "stdout",
          "text": [
            "Additon \n",
            " [[ 2.  2.  3.]\n",
            " [ 4.  6.  6.]\n",
            " [ 7.  8. 10.]]\n",
            "Subtraction \n",
            " [[0. 2. 3.]\n",
            " [4. 4. 6.]\n",
            " [7. 8. 8.]]\n",
            "Multiplication \n",
            " [[1. 0. 0.]\n",
            " [0. 5. 0.]\n",
            " [0. 0. 9.]]\n",
            "Division \n",
            " [[ 1. inf inf]\n",
            " [inf  5. inf]\n",
            " [inf inf  9.]]\n"
          ]
        },
        {
          "output_type": "stream",
          "name": "stderr",
          "text": [
            "<ipython-input-6-5fab1d209be7>:4: RuntimeWarning: divide by zero encountered in true_divide\n",
            "  print(\"Division \\n\", matrix_opp/matrix_opp2)\n"
          ]
        }
      ]
    },
    {
      "cell_type": "code",
      "source": [
        "#linear equation\n",
        "\n",
        "matix_lin=np.arange(1,10).reshape(3,3)\n",
        "\n",
        "matrix_lin2=np.arange(11,20).reshape(3,3)\n",
        "\n",
        "print(\"Multiplication\",matix_lin*matrix_lin2)\n",
        "\n",
        "#transpose func\n",
        "\n",
        "np.transpose(matrix_opp)"
      ],
      "metadata": {
        "colab": {
          "base_uri": "https://localhost:8080/"
        },
        "id": "hjYgSlj6QAmF",
        "outputId": "0866980c-03d0-4431-d62e-b5294393aacc"
      },
      "execution_count": null,
      "outputs": [
        {
          "output_type": "stream",
          "name": "stdout",
          "text": [
            "Multiplication [[ 11  24  39]\n",
            " [ 56  75  96]\n",
            " [119 144 171]]\n"
          ]
        },
        {
          "output_type": "execute_result",
          "data": {
            "text/plain": [
              "array([[1, 4, 7],\n",
              "       [2, 5, 8],\n",
              "       [3, 6, 9]])"
            ]
          },
          "metadata": {},
          "execution_count": 14
        }
      ]
    },
    {
      "cell_type": "code",
      "source": [
        "#min and max func\n",
        "\n",
        "print(\"Minimum Value\", np.min(matrix_opp))\n",
        "\n",
        "print(\"Maximum Value\", np.max(matrix_opp))"
      ],
      "metadata": {
        "colab": {
          "base_uri": "https://localhost:8080/"
        },
        "id": "UK1ZDnIcQwhB",
        "outputId": "2da1c7fe-13dc-4797-c55a-b20b45119789"
      },
      "execution_count": null,
      "outputs": [
        {
          "output_type": "stream",
          "name": "stdout",
          "text": [
            "Minimum Value 1\n",
            "Maximum Value 9\n"
          ]
        }
      ]
    },
    {
      "cell_type": "code",
      "source": [
        "#random value\n",
        "rand_mat=np.random.rand(5)\n",
        "\n",
        "\n",
        "rand_mat=np.random.rand(5,5)\n",
        "\n",
        "print(rand_mat)\n",
        "\n"
      ],
      "metadata": {
        "colab": {
          "base_uri": "https://localhost:8080/"
        },
        "id": "IgYP3TJBQ7lL",
        "outputId": "3b05bc33-fa53-446d-d5d6-3bae2a9f9b28"
      },
      "execution_count": null,
      "outputs": [
        {
          "output_type": "stream",
          "name": "stdout",
          "text": [
            "[[0.85893614 0.04200272 0.38689025 0.32137203 0.92804327]\n",
            " [0.36564071 0.23283396 0.74739731 0.91003718 0.11896107]\n",
            " [0.00208216 0.8724264  0.92433767 0.83141718 0.75798515]\n",
            " [0.30051672 0.39973349 0.88899629 0.02339975 0.75392201]\n",
            " [0.8013186  0.26148056 0.5609748  0.54287032 0.48536049]]\n"
          ]
        }
      ]
    },
    {
      "cell_type": "code",
      "source": [
        "rand_mat3=np.random.randint(1,5,10).reshape(2,5)\n",
        "print(rand_mat3)"
      ],
      "metadata": {
        "colab": {
          "base_uri": "https://localhost:8080/"
        },
        "id": "WfBAXpzDShft",
        "outputId": "1307d647-6bca-4faf-cd1e-ebfec7fe5528"
      },
      "execution_count": 2,
      "outputs": [
        {
          "output_type": "stream",
          "name": "stdout",
          "text": [
            "[4 2 3 4 1 3 1 3 1 4]\n"
          ]
        }
      ]
    },
    {
      "cell_type": "code",
      "source": [
        "\n",
        "\n",
        "#modified matrix\n",
        "\n",
        "print(\"Matrix before modification\", rand_mat3)\n",
        "\n",
        "rand_mat3[1:3,3:5]=0\n",
        "\n",
        "print(\"Matrix after modification\",rand_mat3)\n"
      ],
      "metadata": {
        "id": "08o8acKhT1CD",
        "colab": {
          "base_uri": "https://localhost:8080/"
        },
        "outputId": "606953e9-393e-4cec-c021-c8cc47026473"
      },
      "execution_count": null,
      "outputs": [
        {
          "output_type": "stream",
          "name": "stdout",
          "text": [
            "Matrix before modification [[2 2 2 2 2]\n",
            " [3 3 3 4 4]]\n",
            "Matrix after modification [[2 2 2 2 2]\n",
            " [3 3 3 0 0]]\n"
          ]
        }
      ]
    },
    {
      "cell_type": "code",
      "source": [
        "chest_exersise_sets=np.random.randint(3,5,4)\n",
        "abs_excersise_sets=np.random.randint(3,5,4)\n",
        "biceps_excersise_sets=np.random.randint(3,5,4)\n",
        "triceps_excersise_sets=np.random.randint(3,5,4)\n",
        "shoulders_excersise_sets=np.random.randint(3,5,4)\n",
        "back_excersise_sets=np.random.randint(3,5,5)\n",
        "legs_excersise_sets=np.random.randint(3,5,7)\n",
        "print(biceps_excersise_sets)\n",
        "\n",
        "\n"
      ],
      "metadata": {
        "id": "gL8bWDoptfXG",
        "colab": {
          "base_uri": "https://localhost:8080/"
        },
        "outputId": "1d6175e7-07ce-4497-a546-cb075936f8b0"
      },
      "execution_count": 33,
      "outputs": [
        {
          "output_type": "stream",
          "name": "stdout",
          "text": [
            "[4 4 3 4]\n"
          ]
        }
      ]
    },
    {
      "cell_type": "code",
      "source": [
        "chest_list_labeled=['Bench Press','Incline Bench Press','Chest Flys','Squeese Press']\n",
        "abs_list_labeled=['sit ups','half sit ups','plank','leg raises']\n",
        "biceps_list_labeled=['bicep curls','hammer curls','concentration curls','cable curls']\n",
        "triceps_list_labeled=['single hand tricep extentions','overhead tricep extensions','weighted bench dips','push downs(machine)']\n",
        "shoulders_list_labeled=['side lateral raises','front raises','Arnold press','dumbbells shoulder press']\n",
        "back_list_labeled=['rear delt flys','back extensions','bend over rows','pull downs(machine)','dumbbells incline rows']\n",
        "leg_list_labeled=['barbel squats','barbel lunges','Bulgarian split squats','Steps Ups','quaricep extensions','hamstring extentions','leg presses']\n",
        "\n",
        "\n",
        "df1=pd.DataFrame({\"Exersise\":chest_list_labeled, \"Sets\":chest_exersise_sets})\n",
        "df2=pd.DataFrame({\"Exersise\":abs_list_labeled, \"Sets\":abs_excersise_sets})\n",
        "df3=pd.DataFrame({\"Exersise\":biceps_list_labeled, \"Sets\":biceps_excersise_sets})\n",
        "df4=pd.DataFrame({\"Exersise\":triceps_list_labeled, \"Sets\":triceps_excersise_sets})\n",
        "df5=pd.DataFrame({\"Exersise\":shoulders_list_labeled, \"Sets\":shoulders_excersise_sets})\n",
        "df6=pd.DataFrame({\"Exersise\":back_list_labeled, \"Sets\":back_excersise_sets})\n",
        "df7=pd.DataFrame({\"Exersise\":leg_list_labeled, \"Sets\":legs_excersise_sets})\n",
        "\n",
        "\n",
        "\n",
        "\n",
        "\n",
        "\n"
      ],
      "metadata": {
        "id": "NhGjdJ7eG8ed"
      },
      "execution_count": 43,
      "outputs": []
    },
    {
      "cell_type": "code",
      "source": [
        "\n",
        "a=str(input(\"Enter Which Body Parts Exersise Do You Want To Do\"))\n",
        "\n",
        "if a==\"chest\":\n",
        "  print(df1)\n",
        "elif a==\"biceps\":\n",
        "  print(df3)\n",
        "elif a==\"triceps\":\n",
        "  print(df4)\n",
        "elif a==\"shoulders\":\n",
        "  print(df5)\n",
        "elif a==\"back\":\n",
        "  print(df6)\n",
        "elif a==\"core\" or a==\"abs\":\n",
        "  print(df2)\n",
        "elif a==\"legs\":\n",
        "  print(df7)\n",
        "else:\n",
        "  print(\"enter something valid\")\n"
      ],
      "metadata": {
        "id": "XahGTNmMKeGf",
        "colab": {
          "base_uri": "https://localhost:8080/"
        },
        "outputId": "f3c9d6b3-b032-4a06-fd9e-1d4c69fd5df4"
      },
      "execution_count": 45,
      "outputs": [
        {
          "output_type": "stream",
          "name": "stdout",
          "text": [
            "Enter Which Body Parts Exersise Do You Want To Doabs\n",
            "       Exersise  Sets\n",
            "0       sit ups     3\n",
            "1  half sit ups     4\n",
            "2         plank     4\n",
            "3    leg raises     3\n"
          ]
        }
      ]
    },
    {
      "cell_type": "code",
      "source": [
        "\n"
      ],
      "metadata": {
        "id": "_jjb5FNXPj_s"
      },
      "execution_count": 23,
      "outputs": []
    }
  ]
}