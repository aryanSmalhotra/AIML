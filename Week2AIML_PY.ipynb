{
  "nbformat": 4,
  "nbformat_minor": 0,
  "metadata": {
    "colab": {
      "provenance": [],
      "authorship_tag": "ABX9TyPiTJ+kDn5Gk6YfKN8jzWQx",
      "include_colab_link": true
    },
    "kernelspec": {
      "name": "python3",
      "display_name": "Python 3"
    },
    "language_info": {
      "name": "python"
    }
  },
  "cells": [
    {
      "cell_type": "markdown",
      "metadata": {
        "id": "view-in-github",
        "colab_type": "text"
      },
      "source": [
        "<a href=\"https://colab.research.google.com/github/aryanSmalhotra/AIML/blob/main/Week2AIML_PY.ipynb\" target=\"_parent\"><img src=\"https://colab.research.google.com/assets/colab-badge.svg\" alt=\"Open In Colab\"/></a>"
      ]
    },
    {
      "cell_type": "code",
      "execution_count": 11,
      "metadata": {
        "id": "1V9DjVQADNOZ",
        "colab": {
          "base_uri": "https://localhost:8080/",
          "height": 345
        },
        "outputId": "fb202f28-125d-4a41-f235-1e784be84a9d"
      },
      "outputs": [
        {
          "output_type": "error",
          "ename": "MessageError",
          "evalue": "ignored",
          "traceback": [
            "\u001b[0;31m---------------------------------------------------------------------------\u001b[0m",
            "\u001b[0;31mMessageError\u001b[0m                              Traceback (most recent call last)",
            "\u001b[0;32m<ipython-input-11-646a4948adb0>\u001b[0m in \u001b[0;36m<module>\u001b[0;34m\u001b[0m\n\u001b[1;32m      2\u001b[0m \u001b[0;34m\u001b[0m\u001b[0m\n\u001b[1;32m      3\u001b[0m \u001b[0;32mfrom\u001b[0m \u001b[0mgoogle\u001b[0m\u001b[0;34m.\u001b[0m\u001b[0mcolab\u001b[0m \u001b[0;32mimport\u001b[0m \u001b[0mdrive\u001b[0m\u001b[0;34m\u001b[0m\u001b[0;34m\u001b[0m\u001b[0m\n\u001b[0;32m----> 4\u001b[0;31m \u001b[0mdrive\u001b[0m\u001b[0;34m.\u001b[0m\u001b[0mmount\u001b[0m\u001b[0;34m(\u001b[0m\u001b[0;34m'/content/drive'\u001b[0m\u001b[0;34m)\u001b[0m\u001b[0;34m\u001b[0m\u001b[0;34m\u001b[0m\u001b[0m\n\u001b[0m",
            "\u001b[0;32m/usr/local/lib/python3.8/dist-packages/google/colab/drive.py\u001b[0m in \u001b[0;36mmount\u001b[0;34m(mountpoint, force_remount, timeout_ms, readonly)\u001b[0m\n\u001b[1;32m     99\u001b[0m \u001b[0;32mdef\u001b[0m \u001b[0mmount\u001b[0m\u001b[0;34m(\u001b[0m\u001b[0mmountpoint\u001b[0m\u001b[0;34m,\u001b[0m \u001b[0mforce_remount\u001b[0m\u001b[0;34m=\u001b[0m\u001b[0;32mFalse\u001b[0m\u001b[0;34m,\u001b[0m \u001b[0mtimeout_ms\u001b[0m\u001b[0;34m=\u001b[0m\u001b[0;36m120000\u001b[0m\u001b[0;34m,\u001b[0m \u001b[0mreadonly\u001b[0m\u001b[0;34m=\u001b[0m\u001b[0;32mFalse\u001b[0m\u001b[0;34m)\u001b[0m\u001b[0;34m:\u001b[0m\u001b[0;34m\u001b[0m\u001b[0;34m\u001b[0m\u001b[0m\n\u001b[1;32m    100\u001b[0m   \u001b[0;34m\"\"\"Mount your Google Drive at the specified mountpoint path.\"\"\"\u001b[0m\u001b[0;34m\u001b[0m\u001b[0;34m\u001b[0m\u001b[0m\n\u001b[0;32m--> 101\u001b[0;31m   return _mount(\n\u001b[0m\u001b[1;32m    102\u001b[0m       \u001b[0mmountpoint\u001b[0m\u001b[0;34m,\u001b[0m\u001b[0;34m\u001b[0m\u001b[0;34m\u001b[0m\u001b[0m\n\u001b[1;32m    103\u001b[0m       \u001b[0mforce_remount\u001b[0m\u001b[0;34m=\u001b[0m\u001b[0mforce_remount\u001b[0m\u001b[0;34m,\u001b[0m\u001b[0;34m\u001b[0m\u001b[0;34m\u001b[0m\u001b[0m\n",
            "\u001b[0;32m/usr/local/lib/python3.8/dist-packages/google/colab/drive.py\u001b[0m in \u001b[0;36m_mount\u001b[0;34m(mountpoint, force_remount, timeout_ms, ephemeral, readonly)\u001b[0m\n\u001b[1;32m    122\u001b[0m       'TBE_EPHEM_CREDS_ADDR'] if ephemeral else _os.environ['TBE_CREDS_ADDR']\n\u001b[1;32m    123\u001b[0m   \u001b[0;32mif\u001b[0m \u001b[0mephemeral\u001b[0m\u001b[0;34m:\u001b[0m\u001b[0;34m\u001b[0m\u001b[0;34m\u001b[0m\u001b[0m\n\u001b[0;32m--> 124\u001b[0;31m     _message.blocking_request(\n\u001b[0m\u001b[1;32m    125\u001b[0m         'request_auth', request={'authType': 'dfs_ephemeral'}, timeout_sec=None)\n\u001b[1;32m    126\u001b[0m \u001b[0;34m\u001b[0m\u001b[0m\n",
            "\u001b[0;32m/usr/local/lib/python3.8/dist-packages/google/colab/_message.py\u001b[0m in \u001b[0;36mblocking_request\u001b[0;34m(request_type, request, timeout_sec, parent)\u001b[0m\n\u001b[1;32m    169\u001b[0m   request_id = send_request(\n\u001b[1;32m    170\u001b[0m       request_type, request, parent=parent, expect_reply=True)\n\u001b[0;32m--> 171\u001b[0;31m   \u001b[0;32mreturn\u001b[0m \u001b[0mread_reply_from_input\u001b[0m\u001b[0;34m(\u001b[0m\u001b[0mrequest_id\u001b[0m\u001b[0;34m,\u001b[0m \u001b[0mtimeout_sec\u001b[0m\u001b[0;34m)\u001b[0m\u001b[0;34m\u001b[0m\u001b[0;34m\u001b[0m\u001b[0m\n\u001b[0m",
            "\u001b[0;32m/usr/local/lib/python3.8/dist-packages/google/colab/_message.py\u001b[0m in \u001b[0;36mread_reply_from_input\u001b[0;34m(message_id, timeout_sec)\u001b[0m\n\u001b[1;32m    100\u001b[0m         reply.get('colab_msg_id') == message_id):\n\u001b[1;32m    101\u001b[0m       \u001b[0;32mif\u001b[0m \u001b[0;34m'error'\u001b[0m \u001b[0;32min\u001b[0m \u001b[0mreply\u001b[0m\u001b[0;34m:\u001b[0m\u001b[0;34m\u001b[0m\u001b[0;34m\u001b[0m\u001b[0m\n\u001b[0;32m--> 102\u001b[0;31m         \u001b[0;32mraise\u001b[0m \u001b[0mMessageError\u001b[0m\u001b[0;34m(\u001b[0m\u001b[0mreply\u001b[0m\u001b[0;34m[\u001b[0m\u001b[0;34m'error'\u001b[0m\u001b[0;34m]\u001b[0m\u001b[0;34m)\u001b[0m\u001b[0;34m\u001b[0m\u001b[0;34m\u001b[0m\u001b[0m\n\u001b[0m\u001b[1;32m    103\u001b[0m       \u001b[0;32mreturn\u001b[0m \u001b[0mreply\u001b[0m\u001b[0;34m.\u001b[0m\u001b[0mget\u001b[0m\u001b[0;34m(\u001b[0m\u001b[0;34m'data'\u001b[0m\u001b[0;34m,\u001b[0m \u001b[0;32mNone\u001b[0m\u001b[0;34m)\u001b[0m\u001b[0;34m\u001b[0m\u001b[0;34m\u001b[0m\u001b[0m\n\u001b[1;32m    104\u001b[0m \u001b[0;34m\u001b[0m\u001b[0m\n",
            "\u001b[0;31mMessageError\u001b[0m: Error: credential propagation was unsuccessful"
          ]
        }
      ],
      "source": [
        "import numpy as np\n",
        "\n",
        "from google.colab import drive\n",
        "drive.mount('/content/drive')"
      ]
    },
    {
      "cell_type": "code",
      "source": [
        "arr_str=[\"Iphone\",\"Pixel\",\"Redmi\",\"Samsung\",\"LG\"]\n",
        "arr_num=[4,6,7,3,8]"
      ],
      "metadata": {
        "id": "q_nPDroJFrWP"
      },
      "execution_count": null,
      "outputs": []
    },
    {
      "cell_type": "code",
      "source": [
        "#numpy arrays\n",
        "np_arr_str=np.array(arr_str)\n",
        "np_arr_num=np.array(arr_num)\n",
        "\n",
        "print(\"Numpy Array:\",np_arr_str)\n",
        "print(\"Numpy Array:\",np_arr_num)"
      ],
      "metadata": {
        "colab": {
          "base_uri": "https://localhost:8080/"
        },
        "id": "CcMmgHjkF_oa",
        "outputId": "8f0dd019-37ea-4e2b-f8cf-890c08eaee7b"
      },
      "execution_count": null,
      "outputs": [
        {
          "output_type": "stream",
          "name": "stdout",
          "text": [
            "Numpy Array: ['Iphone' 'Pixel' 'Redmi' 'Samsung' 'LG']\n",
            "Numpy Array: [4 6 7 3 8]\n"
          ]
        }
      ]
    },
    {
      "cell_type": "code",
      "source": [
        "#numpy arrays data type\n",
        "print(\"Type Numpy Array:\",type(np_arr_str))\n",
        "print(\"Type Numpy Array:\",type(np_arr_num))\n",
        "\n",
        "#normal arrays data type\n",
        "print(\"Type Normal Array:\",type(arr_str))\n",
        "print(\"Type Normal Array:\",type(arr_num))\n",
        "\n"
      ],
      "metadata": {
        "colab": {
          "base_uri": "https://localhost:8080/"
        },
        "id": "OCoFC6taG0Zm",
        "outputId": "282f9e53-3df1-4069-c611-e728b639f4cb"
      },
      "execution_count": null,
      "outputs": [
        {
          "output_type": "stream",
          "name": "stdout",
          "text": [
            "Type Numpy Array: <class 'numpy.ndarray'>\n",
            "Type Numpy Array: <class 'numpy.ndarray'>\n",
            "Type Normal Array: <class 'list'>\n",
            "Type Normal Array: <class 'list'>\n"
          ]
        }
      ]
    },
    {
      "cell_type": "code",
      "source": [
        "#matix array\n",
        "matrix=np.array([[9,8,6],[4,2,8],[1,7,5]])\n",
        "print(matrix)"
      ],
      "metadata": {
        "colab": {
          "base_uri": "https://localhost:8080/"
        },
        "id": "720mnqHEGew_",
        "outputId": "d71976f6-de43-4ab7-e33b-97e50cada002"
      },
      "execution_count": null,
      "outputs": [
        {
          "output_type": "stream",
          "name": "stdout",
          "text": [
            "[[9 8 6]\n",
            " [4 2 8]\n",
            " [1 7 5]]\n"
          ]
        }
      ]
    },
    {
      "cell_type": "code",
      "source": [
        "#data type of matrix array\n",
        "print(\"data type of matrix\",type(matrix))"
      ],
      "metadata": {
        "colab": {
          "base_uri": "https://localhost:8080/"
        },
        "id": "NS90YUQsIxCD",
        "outputId": "e2965e3e-e43b-47d5-8f41-ce73eb978ba4"
      },
      "execution_count": null,
      "outputs": [
        {
          "output_type": "stream",
          "name": "stdout",
          "text": [
            "data type of matrix <class 'numpy.ndarray'>\n"
          ]
        }
      ]
    },
    {
      "cell_type": "code",
      "source": [
        "#numpy arange functions\n",
        "\n",
        "arr2=np.arange(start=0,stop=10)\n",
        "print(arr2)\n",
        "\n",
        "#short way\n",
        "arr3=np.arange(0,10)\n",
        "print(arr3)\n",
        "\n",
        "#adding a step of size 5\n",
        "arr_step=np.arange(0,21,5)\n",
        "print(arr_step)\n",
        "\n"
      ],
      "metadata": {
        "id": "T7Gg2KAuI85M",
        "colab": {
          "base_uri": "https://localhost:8080/"
        },
        "outputId": "6d3560e1-ac11-4b96-e249-d1e1f59344fb"
      },
      "execution_count": null,
      "outputs": [
        {
          "output_type": "stream",
          "name": "stdout",
          "text": [
            "[0 1 2 3 4 5 6 7 8 9]\n",
            "[0 1 2 3 4 5 6 7 8 9]\n",
            "[ 0  5 10 15 20]\n"
          ]
        }
      ]
    },
    {
      "cell_type": "code",
      "source": [
        "#linspace func\n",
        "\n",
        "matrix2=np.linspace(10,20,10)\n",
        "matrix2\n",
        "\n"
      ],
      "metadata": {
        "colab": {
          "base_uri": "https://localhost:8080/"
        },
        "id": "GLl5BK5VfNA-",
        "outputId": "f19a069d-b477-49fd-b8c0-17c67e255c4c"
      },
      "execution_count": null,
      "outputs": [
        {
          "output_type": "execute_result",
          "data": {
            "text/plain": [
              "array([10.        , 11.11111111, 12.22222222, 13.33333333, 14.44444444,\n",
              "       15.55555556, 16.66666667, 17.77777778, 18.88888889, 20.        ])"
            ]
          },
          "metadata": {},
          "execution_count": 29
        }
      ]
    },
    {
      "cell_type": "code",
      "source": [
        "#matix ones\n",
        "\n",
        "matrix_ones=np.ones([3,5])\n",
        "\n",
        "\n",
        "#matrix zeros\n",
        "\n",
        "matrix_zero=np.zeros([3,5])\n",
        "\n",
        "\n",
        "\n",
        "#matrix eye\n",
        "\n",
        "matrix_eye=np.eye(5)\n",
        "\n",
        "print(matrix_ones,matrix_zero,matrix_eye)\n",
        "\n"
      ],
      "metadata": {
        "colab": {
          "base_uri": "https://localhost:8080/"
        },
        "id": "LHC348d9gMMq",
        "outputId": "ae89dded-4871-4ddc-c8b6-86ccd3d4a2b1"
      },
      "execution_count": null,
      "outputs": [
        {
          "output_type": "stream",
          "name": "stdout",
          "text": [
            "[[1. 1. 1. 1. 1.]\n",
            " [1. 1. 1. 1. 1.]\n",
            " [1. 1. 1. 1. 1.]] [[0. 0. 0. 0. 0.]\n",
            " [0. 0. 0. 0. 0.]\n",
            " [0. 0. 0. 0. 0.]] [[1. 0. 0. 0. 0.]\n",
            " [0. 1. 0. 0. 0.]\n",
            " [0. 0. 1. 0. 0.]\n",
            " [0. 0. 0. 1. 0.]\n",
            " [0. 0. 0. 0. 1.]]\n"
          ]
        }
      ]
    },
    {
      "cell_type": "code",
      "source": [
        "#NumPY Reshape\n",
        "\n",
        "arr4=np.arange(0,25)\n",
        "\n",
        "arr_reshape=arr4.reshape((5,5))\n",
        "arr_reshape"
      ],
      "metadata": {
        "colab": {
          "base_uri": "https://localhost:8080/"
        },
        "id": "BF3BPD1hhj16",
        "outputId": "d69c4e11-1cc0-4c63-c757-22e690732771"
      },
      "execution_count": null,
      "outputs": [
        {
          "output_type": "execute_result",
          "data": {
            "text/plain": [
              "array([[ 0,  1,  2,  3,  4],\n",
              "       [ 5,  6,  7,  8,  9],\n",
              "       [10, 11, 12, 13, 14],\n",
              "       [15, 16, 17, 18, 19],\n",
              "       [20, 21, 22, 23, 24]])"
            ]
          },
          "metadata": {},
          "execution_count": 47
        }
      ]
    },
    {
      "cell_type": "code",
      "source": [
        "#sin #cos #tan\n",
        "\n",
        "print(np.sin(4))\n",
        "\n",
        "print(np.cos(6))\n",
        "\n",
        "print(np.tan(8))"
      ],
      "metadata": {
        "id": "dT0X5KzIiZdN",
        "colab": {
          "base_uri": "https://localhost:8080/"
        },
        "outputId": "4c190917-edc3-4f11-c312-a8c3ee9e8f56"
      },
      "execution_count": null,
      "outputs": [
        {
          "output_type": "stream",
          "name": "stdout",
          "text": [
            "-0.11478481378318722\n",
            "0.9933903797222716\n",
            "-0.11554854579453279\n"
          ]
        }
      ]
    },
    {
      "cell_type": "code",
      "source": [
        "np.log(256)"
      ],
      "metadata": {
        "colab": {
          "base_uri": "https://localhost:8080/"
        },
        "id": "zj4usF-QpDVn",
        "outputId": "521cd850-34bb-4721-b9d7-2585d398fee0"
      },
      "execution_count": null,
      "outputs": [
        {
          "output_type": "execute_result",
          "data": {
            "text/plain": [
              "5.545177444479562"
            ]
          },
          "metadata": {},
          "execution_count": 55
        }
      ]
    },
    {
      "cell_type": "code",
      "source": [
        "#Basic Algoriths\n",
        "\n",
        "arr8=np.arange(3,8)\n",
        "\n",
        "arr9=np.arange(1,6)\n",
        "\n",
        "print(\"Addition:\", arr8+arr9)\n",
        "print(\"Subtraction:\", arr8-arr9)\n",
        "print(arr8*arr9)\n",
        "print(arr8/arr9)\n",
        "print(\"power\",arr8**arr9)\n",
        "print(\"inverse\",1/arr8)\n",
        "\n"
      ],
      "metadata": {
        "colab": {
          "base_uri": "https://localhost:8080/"
        },
        "id": "i7srFLkspmsj",
        "outputId": "1fb27fb1-90ba-47ae-dce3-9c0ffb508e51"
      },
      "execution_count": null,
      "outputs": [
        {
          "output_type": "stream",
          "name": "stdout",
          "text": [
            "Addition: [ 4  6  8 10 12]\n",
            "Subtraction: [2 2 2 2 2]\n",
            "[ 3  8 15 24 35]\n",
            "[3.         2.         1.66666667 1.5        1.4       ]\n",
            "power [    3    16   125  1296 16807]\n",
            "inverse [0.33333333 0.25       0.2        0.16666667 0.14285714]\n"
          ]
        }
      ]
    },
    {
      "cell_type": "code",
      "source": [
        "#Operations in matricies\n",
        "\n",
        "matrix_opp=np.arange(1,10).reshape(3,3)\n",
        "print(matrix_opp)\n",
        "\n",
        "matrix_opp2=np.eye(3)\n",
        "print(matrix_opp2)"
      ],
      "metadata": {
        "id": "PQiqYn46tfcD",
        "colab": {
          "base_uri": "https://localhost:8080/"
        },
        "outputId": "37c1c32c-11cd-43de-cbd1-5bbf65917e99"
      },
      "execution_count": null,
      "outputs": [
        {
          "output_type": "stream",
          "name": "stdout",
          "text": [
            "[[1 2 3]\n",
            " [4 5 6]\n",
            " [7 8 9]]\n",
            "[[1. 0. 0.]\n",
            " [0. 1. 0.]\n",
            " [0. 0. 1.]]\n"
          ]
        }
      ]
    },
    {
      "cell_type": "code",
      "source": [
        "print(\"Additon \\n\", matrix_opp+matrix_opp2)\n",
        "print(\"Subtraction \\n\", matrix_opp-matrix_opp2)\n",
        "print(\"Multiplication \\n\", matrix_opp*matrix_opp2)\n",
        "print(\"Division \\n\", matrix_opp/matrix_opp2)\n"
      ],
      "metadata": {
        "colab": {
          "base_uri": "https://localhost:8080/"
        },
        "id": "dajQV668PHfB",
        "outputId": "fda97dc6-35f6-4ba7-9fca-48475f4a3e57"
      },
      "execution_count": null,
      "outputs": [
        {
          "output_type": "stream",
          "name": "stdout",
          "text": [
            "Additon \n",
            " [[ 2.  2.  3.]\n",
            " [ 4.  6.  6.]\n",
            " [ 7.  8. 10.]]\n",
            "Subtraction \n",
            " [[0. 2. 3.]\n",
            " [4. 4. 6.]\n",
            " [7. 8. 8.]]\n",
            "Multiplication \n",
            " [[1. 0. 0.]\n",
            " [0. 5. 0.]\n",
            " [0. 0. 9.]]\n",
            "Division \n",
            " [[ 1. inf inf]\n",
            " [inf  5. inf]\n",
            " [inf inf  9.]]\n"
          ]
        },
        {
          "output_type": "stream",
          "name": "stderr",
          "text": [
            "<ipython-input-6-5fab1d209be7>:4: RuntimeWarning: divide by zero encountered in true_divide\n",
            "  print(\"Division \\n\", matrix_opp/matrix_opp2)\n"
          ]
        }
      ]
    },
    {
      "cell_type": "code",
      "source": [
        "#linear equation\n",
        "\n",
        "matix_lin=np.arange(1,10).reshape(3,3)\n",
        "\n",
        "matrix_lin2=np.arange(11,20).reshape(3,3)\n",
        "\n",
        "print(\"Multiplication\",matix_lin*matrix_lin2)\n",
        "\n",
        "#transpose func\n",
        "\n",
        "np.transpose(matrix_opp)"
      ],
      "metadata": {
        "colab": {
          "base_uri": "https://localhost:8080/"
        },
        "id": "hjYgSlj6QAmF",
        "outputId": "0866980c-03d0-4431-d62e-b5294393aacc"
      },
      "execution_count": null,
      "outputs": [
        {
          "output_type": "stream",
          "name": "stdout",
          "text": [
            "Multiplication [[ 11  24  39]\n",
            " [ 56  75  96]\n",
            " [119 144 171]]\n"
          ]
        },
        {
          "output_type": "execute_result",
          "data": {
            "text/plain": [
              "array([[1, 4, 7],\n",
              "       [2, 5, 8],\n",
              "       [3, 6, 9]])"
            ]
          },
          "metadata": {},
          "execution_count": 14
        }
      ]
    },
    {
      "cell_type": "code",
      "source": [
        "#min and max func\n",
        "\n",
        "print(\"Minimum Value\", np.min(matrix_opp))\n",
        "\n",
        "print(\"Maximum Value\", np.max(matrix_opp))"
      ],
      "metadata": {
        "colab": {
          "base_uri": "https://localhost:8080/"
        },
        "id": "UK1ZDnIcQwhB",
        "outputId": "2da1c7fe-13dc-4797-c55a-b20b45119789"
      },
      "execution_count": null,
      "outputs": [
        {
          "output_type": "stream",
          "name": "stdout",
          "text": [
            "Minimum Value 1\n",
            "Maximum Value 9\n"
          ]
        }
      ]
    },
    {
      "cell_type": "code",
      "source": [
        "#random value\n",
        "rand_mat=np.random.rand(5)\n",
        "\n",
        "\n",
        "rand_mat=np.random.rand(5,5)\n",
        "\n",
        "print(rand_mat)\n",
        "\n"
      ],
      "metadata": {
        "colab": {
          "base_uri": "https://localhost:8080/"
        },
        "id": "IgYP3TJBQ7lL",
        "outputId": "3b05bc33-fa53-446d-d5d6-3bae2a9f9b28"
      },
      "execution_count": null,
      "outputs": [
        {
          "output_type": "stream",
          "name": "stdout",
          "text": [
            "[[0.85893614 0.04200272 0.38689025 0.32137203 0.92804327]\n",
            " [0.36564071 0.23283396 0.74739731 0.91003718 0.11896107]\n",
            " [0.00208216 0.8724264  0.92433767 0.83141718 0.75798515]\n",
            " [0.30051672 0.39973349 0.88899629 0.02339975 0.75392201]\n",
            " [0.8013186  0.26148056 0.5609748  0.54287032 0.48536049]]\n"
          ]
        }
      ]
    },
    {
      "cell_type": "code",
      "source": [
        "rand_mat3=np.random.randint(1,5,10).reshape(2,5)\n",
        "print(rand_mat3)"
      ],
      "metadata": {
        "colab": {
          "base_uri": "https://localhost:8080/"
        },
        "id": "WfBAXpzDShft",
        "outputId": "66106273-1a74-42e1-8cdb-dd35f423b6d7"
      },
      "execution_count": 7,
      "outputs": [
        {
          "output_type": "stream",
          "name": "stdout",
          "text": [
            "[[2 2 2 2 2]\n",
            " [3 3 3 4 4]]\n"
          ]
        }
      ]
    },
    {
      "cell_type": "code",
      "source": [
        "\n",
        "\n",
        "#modified matrix\n",
        "\n",
        "print(\"Matrix before modification\", rand_mat3)\n",
        "\n",
        "rand_mat3[1:3,3:5]=0\n",
        "\n",
        "print(\"Matrix after modification\",rand_mat3)\n"
      ],
      "metadata": {
        "id": "08o8acKhT1CD",
        "colab": {
          "base_uri": "https://localhost:8080/"
        },
        "outputId": "606953e9-393e-4cec-c021-c8cc47026473"
      },
      "execution_count": 8,
      "outputs": [
        {
          "output_type": "stream",
          "name": "stdout",
          "text": [
            "Matrix before modification [[2 2 2 2 2]\n",
            " [3 3 3 4 4]]\n",
            "Matrix after modification [[2 2 2 2 2]\n",
            " [3 3 3 0 0]]\n"
          ]
        }
      ]
    },
    {
      "cell_type": "code",
      "source": [
        "np.savez('content/drive/Mydrive')"
      ],
      "metadata": {
        "id": "gL8bWDoptfXG"
      },
      "execution_count": null,
      "outputs": []
    }
  ]
}