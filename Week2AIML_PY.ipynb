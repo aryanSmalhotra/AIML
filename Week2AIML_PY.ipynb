{
  "nbformat": 4,
  "nbformat_minor": 0,
  "metadata": {
    "colab": {
      "provenance": [],
      "authorship_tag": "ABX9TyOTYq36mV0JDbo15SJ9Ect5",
      "include_colab_link": true
    },
    "kernelspec": {
      "name": "python3",
      "display_name": "Python 3"
    },
    "language_info": {
      "name": "python"
    }
  },
  "cells": [
    {
      "cell_type": "markdown",
      "metadata": {
        "id": "view-in-github",
        "colab_type": "text"
      },
      "source": [
        "<a href=\"https://colab.research.google.com/github/aryanSmalhotra/AIML/blob/main/Week2AIML_PY.ipynb\" target=\"_parent\"><img src=\"https://colab.research.google.com/assets/colab-badge.svg\" alt=\"Open In Colab\"/></a>"
      ]
    },
    {
      "cell_type": "code",
      "execution_count": null,
      "metadata": {
        "id": "1V9DjVQADNOZ"
      },
      "outputs": [],
      "source": [
        "import numpy as np"
      ]
    },
    {
      "cell_type": "code",
      "source": [
        "arr_str=[\"Iphone\",\"Pixel\",\"Redmi\",\"Samsung\",\"LG\"]\n",
        "arr_num=[4,6,7,3,8]"
      ],
      "metadata": {
        "id": "q_nPDroJFrWP"
      },
      "execution_count": null,
      "outputs": []
    },
    {
      "cell_type": "code",
      "source": [
        "#numpy arrays\n",
        "np_arr_str=np.array(arr_str)\n",
        "np_arr_num=np.array(arr_num)\n",
        "\n",
        "print(\"Numpy Array:\",np_arr_str)\n",
        "print(\"Numpy Array:\",np_arr_num)"
      ],
      "metadata": {
        "colab": {
          "base_uri": "https://localhost:8080/"
        },
        "id": "CcMmgHjkF_oa",
        "outputId": "8f0dd019-37ea-4e2b-f8cf-890c08eaee7b"
      },
      "execution_count": null,
      "outputs": [
        {
          "output_type": "stream",
          "name": "stdout",
          "text": [
            "Numpy Array: ['Iphone' 'Pixel' 'Redmi' 'Samsung' 'LG']\n",
            "Numpy Array: [4 6 7 3 8]\n"
          ]
        }
      ]
    },
    {
      "cell_type": "code",
      "source": [
        "#numpy arrays data type\n",
        "print(\"Type Numpy Array:\",type(np_arr_str))\n",
        "print(\"Type Numpy Array:\",type(np_arr_num))\n",
        "\n",
        "#normal arrays data type\n",
        "print(\"Type Normal Array:\",type(arr_str))\n",
        "print(\"Type Normal Array:\",type(arr_num))\n",
        "\n"
      ],
      "metadata": {
        "colab": {
          "base_uri": "https://localhost:8080/"
        },
        "id": "OCoFC6taG0Zm",
        "outputId": "282f9e53-3df1-4069-c611-e728b639f4cb"
      },
      "execution_count": null,
      "outputs": [
        {
          "output_type": "stream",
          "name": "stdout",
          "text": [
            "Type Numpy Array: <class 'numpy.ndarray'>\n",
            "Type Numpy Array: <class 'numpy.ndarray'>\n",
            "Type Normal Array: <class 'list'>\n",
            "Type Normal Array: <class 'list'>\n"
          ]
        }
      ]
    },
    {
      "cell_type": "code",
      "source": [
        "#matix array\n",
        "matrix=np.array([[9,8,6],[4,2,8],[1,7,5]])\n",
        "print(matrix)"
      ],
      "metadata": {
        "colab": {
          "base_uri": "https://localhost:8080/"
        },
        "id": "720mnqHEGew_",
        "outputId": "d71976f6-de43-4ab7-e33b-97e50cada002"
      },
      "execution_count": null,
      "outputs": [
        {
          "output_type": "stream",
          "name": "stdout",
          "text": [
            "[[9 8 6]\n",
            " [4 2 8]\n",
            " [1 7 5]]\n"
          ]
        }
      ]
    },
    {
      "cell_type": "code",
      "source": [
        "#data type of matrix array\n",
        "print(\"data type of matrix\",type(matrix))"
      ],
      "metadata": {
        "colab": {
          "base_uri": "https://localhost:8080/"
        },
        "id": "NS90YUQsIxCD",
        "outputId": "e2965e3e-e43b-47d5-8f41-ce73eb978ba4"
      },
      "execution_count": null,
      "outputs": [
        {
          "output_type": "stream",
          "name": "stdout",
          "text": [
            "data type of matrix <class 'numpy.ndarray'>\n"
          ]
        }
      ]
    },
    {
      "cell_type": "code",
      "source": [
        "#numpy arange functions\n",
        "\n",
        "arr2=np.arange(start=0,stop=10)\n",
        "print(arr2)\n",
        "\n",
        "#short way\n",
        "arr3=np.arange(0,10)\n",
        "print(arr3)\n",
        "\n",
        "#adding a step of size 5\n",
        "arr_step=np.arange(0,21,5)\n",
        "print(arr_step)\n",
        "\n"
      ],
      "metadata": {
        "id": "T7Gg2KAuI85M",
        "colab": {
          "base_uri": "https://localhost:8080/"
        },
        "outputId": "6d3560e1-ac11-4b96-e249-d1e1f59344fb"
      },
      "execution_count": null,
      "outputs": [
        {
          "output_type": "stream",
          "name": "stdout",
          "text": [
            "[0 1 2 3 4 5 6 7 8 9]\n",
            "[0 1 2 3 4 5 6 7 8 9]\n",
            "[ 0  5 10 15 20]\n"
          ]
        }
      ]
    },
    {
      "cell_type": "code",
      "source": [
        "#linspace func\n",
        "\n",
        "matrix2=np.linspace(10,20,10)\n",
        "matrix2\n",
        "\n"
      ],
      "metadata": {
        "colab": {
          "base_uri": "https://localhost:8080/"
        },
        "id": "GLl5BK5VfNA-",
        "outputId": "f19a069d-b477-49fd-b8c0-17c67e255c4c"
      },
      "execution_count": null,
      "outputs": [
        {
          "output_type": "execute_result",
          "data": {
            "text/plain": [
              "array([10.        , 11.11111111, 12.22222222, 13.33333333, 14.44444444,\n",
              "       15.55555556, 16.66666667, 17.77777778, 18.88888889, 20.        ])"
            ]
          },
          "metadata": {},
          "execution_count": 29
        }
      ]
    },
    {
      "cell_type": "code",
      "source": [
        "#matix ones\n",
        "\n",
        "matrix_ones=np.ones([3,5])\n",
        "\n",
        "\n",
        "#matrix zeros\n",
        "\n",
        "matrix_zero=np.zeros([3,5])\n",
        "\n",
        "\n",
        "\n",
        "#matrix eye\n",
        "\n",
        "matrix_eye=np.eye(5)\n",
        "\n",
        "print(matrix_ones,matrix_zero,matrix_eye)\n",
        "\n"
      ],
      "metadata": {
        "colab": {
          "base_uri": "https://localhost:8080/"
        },
        "id": "LHC348d9gMMq",
        "outputId": "ae89dded-4871-4ddc-c8b6-86ccd3d4a2b1"
      },
      "execution_count": null,
      "outputs": [
        {
          "output_type": "stream",
          "name": "stdout",
          "text": [
            "[[1. 1. 1. 1. 1.]\n",
            " [1. 1. 1. 1. 1.]\n",
            " [1. 1. 1. 1. 1.]] [[0. 0. 0. 0. 0.]\n",
            " [0. 0. 0. 0. 0.]\n",
            " [0. 0. 0. 0. 0.]] [[1. 0. 0. 0. 0.]\n",
            " [0. 1. 0. 0. 0.]\n",
            " [0. 0. 1. 0. 0.]\n",
            " [0. 0. 0. 1. 0.]\n",
            " [0. 0. 0. 0. 1.]]\n"
          ]
        }
      ]
    },
    {
      "cell_type": "code",
      "source": [
        "#NumPY Reshape\n",
        "\n",
        "arr4=np.arange(0,25)\n",
        "\n",
        "arr_reshape=arr4.reshape((5,5))\n",
        "arr_reshape"
      ],
      "metadata": {
        "colab": {
          "base_uri": "https://localhost:8080/"
        },
        "id": "BF3BPD1hhj16",
        "outputId": "d69c4e11-1cc0-4c63-c757-22e690732771"
      },
      "execution_count": null,
      "outputs": [
        {
          "output_type": "execute_result",
          "data": {
            "text/plain": [
              "array([[ 0,  1,  2,  3,  4],\n",
              "       [ 5,  6,  7,  8,  9],\n",
              "       [10, 11, 12, 13, 14],\n",
              "       [15, 16, 17, 18, 19],\n",
              "       [20, 21, 22, 23, 24]])"
            ]
          },
          "metadata": {},
          "execution_count": 47
        }
      ]
    },
    {
      "cell_type": "code",
      "source": [
        "#sin #cos #tan\n",
        "\n",
        "print(np.sin(4))\n",
        "\n",
        "print(np.cos(6))\n",
        "\n",
        "print(np.tan(8))"
      ],
      "metadata": {
        "id": "dT0X5KzIiZdN",
        "colab": {
          "base_uri": "https://localhost:8080/"
        },
        "outputId": "4c190917-edc3-4f11-c312-a8c3ee9e8f56"
      },
      "execution_count": null,
      "outputs": [
        {
          "output_type": "stream",
          "name": "stdout",
          "text": [
            "-0.11478481378318722\n",
            "0.9933903797222716\n",
            "-0.11554854579453279\n"
          ]
        }
      ]
    },
    {
      "cell_type": "code",
      "source": [
        "np.log(256)"
      ],
      "metadata": {
        "colab": {
          "base_uri": "https://localhost:8080/"
        },
        "id": "zj4usF-QpDVn",
        "outputId": "521cd850-34bb-4721-b9d7-2585d398fee0"
      },
      "execution_count": null,
      "outputs": [
        {
          "output_type": "execute_result",
          "data": {
            "text/plain": [
              "5.545177444479562"
            ]
          },
          "metadata": {},
          "execution_count": 55
        }
      ]
    },
    {
      "cell_type": "code",
      "source": [
        "#Basic Algoriths\n",
        "\n",
        "arr8=np.arange(3,8)\n",
        "\n",
        "arr9=np.arange(1,6)\n",
        "\n",
        "print(\"Addition:\", arr8+arr9)\n",
        "print(\"Subtraction:\", arr8-arr9)\n",
        "print(arr8*arr9)\n",
        "print(arr8/arr9)\n",
        "print(\"power\",arr8**arr9)\n",
        "print(\"inverse\",1/arr8)\n",
        "\n"
      ],
      "metadata": {
        "colab": {
          "base_uri": "https://localhost:8080/"
        },
        "id": "i7srFLkspmsj",
        "outputId": "3f1728c3-9820-4671-b765-eb9056eb37ff"
      },
      "execution_count": null,
      "outputs": [
        {
          "output_type": "stream",
          "name": "stdout",
          "text": [
            "Addition: [ 4  6  8 10 12]\n",
            "Subtraction: [2 2 2 2 2]\n",
            "[ 3  8 15 24 35]\n",
            "[3.         2.         1.66666667 1.5        1.4       ]\n",
            "power [    3    16   125  1296 16807]\n",
            "inverse [0.33333333 0.25       0.2        0.16666667 0.14285714]\n"
          ]
        }
      ]
    },
    {
      "cell_type": "code",
      "source": [],
      "metadata": {
        "id": "PQiqYn46tfcD"
      },
      "execution_count": null,
      "outputs": []
    }
  ]
}